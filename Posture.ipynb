{
 "cells": [
  {
   "cell_type": "code",
   "execution_count": 1,
   "id": "0a3d5d22",
   "metadata": {},
   "outputs": [],
   "source": [
    "import mediapipe as mp"
   ]
  },
  {
   "cell_type": "code",
   "execution_count": 2,
   "id": "f5023ce9",
   "metadata": {},
   "outputs": [],
   "source": [
    "import cv2"
   ]
  },
  {
   "cell_type": "code",
   "execution_count": 3,
   "id": "219b6cdf",
   "metadata": {},
   "outputs": [],
   "source": [
    "import numpy as np\n",
    "import pandas as pd\n"
   ]
  },
  {
   "cell_type": "code",
   "execution_count": 4,
   "id": "b9e7fc8c",
   "metadata": {},
   "outputs": [],
   "source": [
    "mp_drw = mp.solutions.drawing_utils\n",
    "mp_ps = mp.solutions.pose\n",
    "\n",
    "def cal_angle(a,b,c):\n",
    "    a=np.array(a)\n",
    "    b=np.array(b)\n",
    "    c=np.array(c)\n",
    "    \n",
    "    radians=np.arctan2(c[1]-b[1],c[0]-b[0]) - np.arctan2(a[1]-b[1],a[0]-b[0])\n",
    "    angle=np.abs(radians*180.0/np.pi)\n",
    "    \n",
    "    if angle>180.0:\n",
    "        angle=360-angle\n",
    "    \n",
    "    return angle"
   ]
  },
  {
   "cell_type": "code",
   "execution_count": 5,
   "id": "6a09012a",
   "metadata": {},
   "outputs": [
    {
     "data": {
      "text/plain": [
       "<module 'mediapipe.python.solutions.pose' from 'C:\\\\Users\\\\ACER\\\\anaconda5\\\\lib\\\\site-packages\\\\mediapipe\\\\python\\\\solutions\\\\pose.py'>"
      ]
     },
     "execution_count": 5,
     "metadata": {},
     "output_type": "execute_result"
    }
   ],
   "source": [
    "mp_ps"
   ]
  },
  {
   "cell_type": "code",
   "execution_count": 6,
   "id": "fa2c1359",
   "metadata": {},
   "outputs": [],
   "source": [
    "cap = cv2.VideoCapture(0)\n",
    "with mp_ps.Pose(min_detection_confidence=0.5,min_tracking_confidence=0.5) as pose:\n",
    "    while True:\n",
    "        ret, frame = cap.read()\n",
    "        img = cv2.cvtColor(frame,cv2.COLOR_BGR2RGB)\n",
    "        img.flags.writeable = False\n",
    "        res = pose.process(img)\n",
    "        img.flags.writeable = True\n",
    "        img = cv2.cvtColor(img,cv2.COLOR_RGB2BGR)\n",
    "        #extract landmarks\n",
    "        try:\n",
    "            landmarks = res.pose_landmarks.landmark\n",
    "            #get cord\n",
    "            r_hip = [landmarks[mp_ps.PoseLandmark.RIGHT_HIP].x,landmarks[mp_ps.PoseLandmark.RIGHT_HIP].y]\n",
    "            r_kne = [landmarks[mp_ps.PoseLandmark.RIGHT_KNEE].x,landmarks[mp_ps.PoseLandmark.RIGHT_KNEE].y]\n",
    "            r_toe = [landmarks[mp_ps.PoseLandmark.RIGHT_HEEL].x,landmarks[mp_ps.PoseLandmark.RIGHT_HEEL].y]\n",
    "            \n",
    "            l_hip = [landmarks[mp_ps.PoseLandmark.LEFT_HIP].x,landmarks[mp_ps.PoseLandmark.LEFT_HIP].y]\n",
    "            l_kne = [landmarks[mp_ps.PoseLandmark.LEFT_KNEE].x,landmarks[mp_ps.PoseLandmark.LEFT_KNEE].y]\n",
    "            l_toe = [landmarks[mp_ps.PoseLandmark.LEFT_HEEL].x,landmarks[mp_ps.PoseLandmark.LEFT_HEEL].y]\n",
    "            \n",
    "            \n",
    "            #Cal ang\n",
    "            angle = cal_angle(r_hip,r_knw,r_toe)\n",
    "            cv2.putText(img,str(angle),tuple(np.multiply(lb,[640,480]).astype(int)),cv2.FONT_HERSHEY_SIMPLEX,0.5,(255,255,255),2,cv2.LINE_AA\n",
    "                       \n",
    "                       )\n",
    "            angle1 = cal_angle(l_hip,l_kne,l_toe)\n",
    "            cv2.putText(img,str(angle2),tuple(np.multiply(kne,[640,480]).astype(int)),cv2.FONT_HERSHEY_SIMPLEX,0.5,(255,255,255),2,cv2.LINE_AA\n",
    "                       \n",
    "                       )\n",
    "            \n",
    "                \n",
    "        except:\n",
    "            pass\n",
    "        mp_drw.draw_landmarks(img,res.pose_landmarks,mp_ps.POSE_CONNECTIONS,\n",
    "                             mp_drw.DrawingSpec(color=(245,117,66),thickness=2,\n",
    "                                          circle_radius=2),mp_drw.DrawingSpec(color=(266,167,56),thickness=2,\n",
    "                                          circle_radius=2))\n",
    "        #print(res)\n",
    "        cv2.imshow('mediapipe',img)\n",
    "        key = cv2.waitKey(1) & 0xFF\n",
    "\n",
    "        if key == ord(\"q\"):\n",
    "            break\n",
    "cap.release()\n",
    "cv2.destroyAllWindows()\n",
    "\n"
   ]
  },
  {
   "cell_type": "code",
   "execution_count": 7,
   "id": "cb1ec04e",
   "metadata": {},
   "outputs": [
    {
     "data": {
      "text/plain": [
       "[x: 0.6964554190635681\n",
       "y: 0.622808575630188\n",
       "z: -1.3612916469573975\n",
       "visibility: 0.9990624785423279\n",
       ", x: 0.7201712727546692\n",
       "y: 0.5487068891525269\n",
       "z: -1.2963345050811768\n",
       "visibility: 0.9983252882957458\n",
       ", x: 0.734481692314148\n",
       "y: 0.5458528995513916\n",
       "z: -1.296573519706726\n",
       "visibility: 0.9983587861061096\n",
       ", x: 0.7496689558029175\n",
       "y: 0.5428264737129211\n",
       "z: -1.296754240989685\n",
       "visibility: 0.9976946115493774\n",
       ", x: 0.6656250357627869\n",
       "y: 0.5511618852615356\n",
       "z: -1.3154230117797852\n",
       "visibility: 0.9986480474472046\n",
       ", x: 0.6403550505638123\n",
       "y: 0.5506488680839539\n",
       "z: -1.3146511316299438\n",
       "visibility: 0.9989655017852783\n",
       ", x: 0.6191479563713074\n",
       "y: 0.5514118075370789\n",
       "z: -1.3151257038116455\n",
       "visibility: 0.9989867806434631\n",
       ", x: 0.766093909740448\n",
       "y: 0.5676340460777283\n",
       "z: -0.8176149129867554\n",
       "visibility: 0.9980312585830688\n",
       ", x: 0.5773073434829712\n",
       "y: 0.5774968266487122\n",
       "z: -0.8460809588432312\n",
       "visibility: 0.9994096755981445\n",
       ", x: 0.7184417843818665\n",
       "y: 0.6887932419776917\n",
       "z: -1.1723843812942505\n",
       "visibility: 0.9990227222442627\n",
       ", x: 0.6532378792762756\n",
       "y: 0.6975363492965698\n",
       "z: -1.192762851715088\n",
       "visibility: 0.9994235038757324\n",
       ", x: 0.9215046167373657\n",
       "y: 0.9328323602676392\n",
       "z: -0.41294199228286743\n",
       "visibility: 0.9858778119087219\n",
       ", x: 0.4079813063144684\n",
       "y: 0.8922140598297119\n",
       "z: -0.584758996963501\n",
       "visibility: 0.9960918426513672\n",
       ", x: 1.0404820442199707\n",
       "y: 1.3120131492614746\n",
       "z: -0.32769855856895447\n",
       "visibility: 0.08959347754716873\n",
       ", x: 0.2894635796546936\n",
       "y: 1.3592493534088135\n",
       "z: -0.47402557730674744\n",
       "visibility: 0.5533704161643982\n",
       ", x: 1.041074514389038\n",
       "y: 1.6731054782867432\n",
       "z: -0.8289450407028198\n",
       "visibility: 0.0722610205411911\n",
       ", x: 0.3306592106819153\n",
       "y: 1.708616018295288\n",
       "z: -0.9865239858627319\n",
       "visibility: 0.43362167477607727\n",
       ", x: 1.0711815357208252\n",
       "y: 1.7934049367904663\n",
       "z: -0.981022834777832\n",
       "visibility: 0.10261648148298264\n",
       ", x: 0.3100440204143524\n",
       "y: 1.829478144645691\n",
       "z: -1.1491960287094116\n",
       "visibility: 0.42522627115249634\n",
       ", x: 1.0260555744171143\n",
       "y: 1.800265908241272\n",
       "z: -1.0791319608688354\n",
       "visibility: 0.14087755978107452\n",
       ", x: 0.3589133620262146\n",
       "y: 1.8203810453414917\n",
       "z: -1.2703274488449097\n",
       "visibility: 0.4733218848705292\n",
       ", x: 0.9983980059623718\n",
       "y: 1.75273597240448\n",
       "z: -0.8972200155258179\n",
       "visibility: 0.14222797751426697\n",
       ", x: 0.37614962458610535\n",
       "y: 1.7706921100616455\n",
       "z: -1.0550471544265747\n",
       "visibility: 0.45414039492607117\n",
       ", x: 0.8125439882278442\n",
       "y: 1.745004653930664\n",
       "z: -0.06795819103717804\n",
       "visibility: 0.0004466470854822546\n",
       ", x: 0.4842607378959656\n",
       "y: 1.7343829870224\n",
       "z: 0.0733465701341629\n",
       "visibility: 0.0005136077525094151\n",
       ", x: 0.7808172106742859\n",
       "y: 2.4354679584503174\n",
       "z: 0.036334652453660965\n",
       "visibility: 0.003453819314017892\n",
       ", x: 0.48141759634017944\n",
       "y: 2.4304161071777344\n",
       "z: 0.22070114314556122\n",
       "visibility: 0.001846593921072781\n",
       ", x: 0.7584432363510132\n",
       "y: 3.0450797080993652\n",
       "z: 0.8806103467941284\n",
       "visibility: 0.0004072709125466645\n",
       ", x: 0.4717470705509186\n",
       "y: 3.0324618816375732\n",
       "z: 0.907270073890686\n",
       "visibility: 7.044155790936202e-05\n",
       ", x: 0.7619963884353638\n",
       "y: 3.1422650814056396\n",
       "z: 0.9226215481758118\n",
       "visibility: 0.00021570090029854327\n",
       ", x: 0.4633398950099945\n",
       "y: 3.1295135021209717\n",
       "z: 0.956760048866272\n",
       "visibility: 0.00010113822645507753\n",
       ", x: 0.7030268311500549\n",
       "y: 3.2269883155822754\n",
       "z: 0.20121100544929504\n",
       "visibility: 0.00029526115395128727\n",
       ", x: 0.528283953666687\n",
       "y: 3.229733943939209\n",
       "z: 0.18382690846920013\n",
       "visibility: 0.0003141964552924037\n",
       "]"
      ]
     },
     "execution_count": 7,
     "metadata": {},
     "output_type": "execute_result"
    }
   ],
   "source": [
    "landmarks"
   ]
  },
  {
   "cell_type": "code",
   "execution_count": null,
   "id": "d6d86449",
   "metadata": {},
   "outputs": [],
   "source": []
  },
  {
   "cell_type": "code",
   "execution_count": 8,
   "id": "18f0fb49",
   "metadata": {},
   "outputs": [],
   "source": [
    "a = np.multiply(r_hip,[640,480]).astype(int)\n",
    "b = np.multiply(r_kne,[640,480]).astype(int)\n",
    "c= np.multiply(r_toe,[640,480]).astype(int)\n",
    "d= np.multiply(l_hip,[640,480]).astype(int)\n",
    "e= np.multiply(l_kne,[640,480]).astype(int)\n",
    "f= np.multiply(l_toe,[640,480]).astype(int)"
   ]
  },
  {
   "cell_type": "code",
   "execution_count": 14,
   "id": "87b2da3e",
   "metadata": {},
   "outputs": [
    {
     "data": {
      "text/plain": [
       "array([309, 832])"
      ]
     },
     "execution_count": 14,
     "metadata": {},
     "output_type": "execute_result"
    }
   ],
   "source": [
    "a"
   ]
  },
  {
   "cell_type": "code",
   "execution_count": 9,
   "id": "f4f09df6",
   "metadata": {},
   "outputs": [],
   "source": [
    "li =[a,b,c,d,e,f]"
   ]
  },
  {
   "cell_type": "code",
   "execution_count": 10,
   "id": "6cfae74d",
   "metadata": {},
   "outputs": [],
   "source": [
    "df= pd.DataFrame(data = li, columns= [\"x\", \"y\"])"
   ]
  },
  {
   "cell_type": "code",
   "execution_count": 11,
   "id": "fff5d379",
   "metadata": {
    "scrolled": true
   },
   "outputs": [
    {
     "data": {
      "text/html": [
       "<div>\n",
       "<style scoped>\n",
       "    .dataframe tbody tr th:only-of-type {\n",
       "        vertical-align: middle;\n",
       "    }\n",
       "\n",
       "    .dataframe tbody tr th {\n",
       "        vertical-align: top;\n",
       "    }\n",
       "\n",
       "    .dataframe thead th {\n",
       "        text-align: right;\n",
       "    }\n",
       "</style>\n",
       "<table border=\"1\" class=\"dataframe\">\n",
       "  <thead>\n",
       "    <tr style=\"text-align: right;\">\n",
       "      <th></th>\n",
       "      <th>x</th>\n",
       "      <th>y</th>\n",
       "    </tr>\n",
       "  </thead>\n",
       "  <tbody>\n",
       "    <tr>\n",
       "      <th>0</th>\n",
       "      <td>309</td>\n",
       "      <td>832</td>\n",
       "    </tr>\n",
       "    <tr>\n",
       "      <th>1</th>\n",
       "      <td>308</td>\n",
       "      <td>1166</td>\n",
       "    </tr>\n",
       "    <tr>\n",
       "      <th>2</th>\n",
       "      <td>296</td>\n",
       "      <td>1502</td>\n",
       "    </tr>\n",
       "    <tr>\n",
       "      <th>3</th>\n",
       "      <td>520</td>\n",
       "      <td>837</td>\n",
       "    </tr>\n",
       "    <tr>\n",
       "      <th>4</th>\n",
       "      <td>499</td>\n",
       "      <td>1169</td>\n",
       "    </tr>\n",
       "    <tr>\n",
       "      <th>5</th>\n",
       "      <td>487</td>\n",
       "      <td>1508</td>\n",
       "    </tr>\n",
       "  </tbody>\n",
       "</table>\n",
       "</div>"
      ],
      "text/plain": [
       "     x     y\n",
       "0  309   832\n",
       "1  308  1166\n",
       "2  296  1502\n",
       "3  520   837\n",
       "4  499  1169\n",
       "5  487  1508"
      ]
     },
     "execution_count": 11,
     "metadata": {},
     "output_type": "execute_result"
    }
   ],
   "source": [
    "df"
   ]
  },
  {
   "cell_type": "code",
   "execution_count": 12,
   "id": "0cfae124",
   "metadata": {},
   "outputs": [],
   "source": [
    "df.to_excel('posture.xlsx')"
   ]
  },
  {
   "cell_type": "code",
   "execution_count": 13,
   "id": "1d4a1cb2",
   "metadata": {},
   "outputs": [
    {
     "data": {
      "text/plain": [
       "array([309, 832])"
      ]
     },
     "execution_count": 13,
     "metadata": {},
     "output_type": "execute_result"
    }
   ],
   "source": [
    "landmarks[mp_ps.PoseLandmark.RIGHT_HIP]\n",
    "np.multiply(r_hip,[640,480]).astype(int)"
   ]
  },
  {
   "cell_type": "code",
   "execution_count": null,
   "id": "fda14c8b",
   "metadata": {},
   "outputs": [],
   "source": []
  },
  {
   "cell_type": "code",
   "execution_count": null,
   "id": "9e50f913",
   "metadata": {},
   "outputs": [],
   "source": []
  },
  {
   "cell_type": "code",
   "execution_count": null,
   "id": "7f572ca8",
   "metadata": {},
   "outputs": [],
   "source": []
  }
 ],
 "metadata": {
  "kernelspec": {
   "display_name": "Python 3 (ipykernel)",
   "language": "python",
   "name": "python3"
  },
  "language_info": {
   "codemirror_mode": {
    "name": "ipython",
    "version": 3
   },
   "file_extension": ".py",
   "mimetype": "text/x-python",
   "name": "python",
   "nbconvert_exporter": "python",
   "pygments_lexer": "ipython3",
   "version": "3.9.7"
  }
 },
 "nbformat": 4,
 "nbformat_minor": 5
}
